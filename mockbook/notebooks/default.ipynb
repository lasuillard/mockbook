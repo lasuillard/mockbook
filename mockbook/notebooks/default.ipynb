{
 "cells": [
  {
   "cell_type": "markdown",
   "metadata": {},
   "source": [
    "# Mockbook Sample\n",
    "\n",
    "Mockbook comes with Faker and factory-boy installed to create mock API endpoints easily."
   ]
  },
  {
   "cell_type": "code",
   "execution_count": null,
   "metadata": {},
   "outputs": [],
   "source": [
    "from typing import Any\n",
    "\n",
    "from mockbook.app import app"
   ]
  },
  {
   "cell_type": "code",
   "execution_count": null,
   "metadata": {},
   "outputs": [],
   "source": [
    "@app.get(\"/\")\n",
    "def root() -> Any:\n",
    "    \"\"\"Default health check endpoint.\"\"\"\n",
    "    return \"OK\""
   ]
  },
  {
   "cell_type": "code",
   "execution_count": null,
   "metadata": {},
   "outputs": [],
   "source": [
    "import faker\n",
    "\n",
    "fake = faker.Faker()\n",
    "\n",
    "\n",
    "@app.get(\"/lorem-ipsum\")\n",
    "def lorem_ipsum() -> Any:\n",
    "    \"\"\"Generate a random paragraph.\"\"\"\n",
    "    return {\"paragraph\": fake.paragraph()}"
   ]
  },
  {
   "cell_type": "code",
   "execution_count": null,
   "metadata": {},
   "outputs": [],
   "source": [
    "import factory\n",
    "import pydantic\n",
    "\n",
    "\n",
    "class User(pydantic.BaseModel):\n",
    "    name: str\n",
    "\n",
    "\n",
    "class UserFactory(factory.Factory):\n",
    "    class Meta:\n",
    "        model = User\n",
    "\n",
    "    name = factory.Faker(\"name\")\n",
    "\n",
    "\n",
    "@app.get(\"/api/users\", response_model=list[User])\n",
    "def list_users(num_users: int = 3) -> Any:\n",
    "    \"\"\"Returns list of users.\"\"\"\n",
    "    return UserFactory.create_batch(size=num_users)"
   ]
  }
 ],
 "metadata": {
  "kernelspec": {
   "display_name": "Python 3 (ipykernel)",
   "language": "python",
   "name": "python3"
  },
  "language_info": {
   "codemirror_mode": {
    "name": "ipython",
    "version": 3
   },
   "file_extension": ".py",
   "mimetype": "text/x-python",
   "name": "python",
   "nbconvert_exporter": "python",
   "pygments_lexer": "ipython3",
   "version": "3.13.0"
  }
 },
 "nbformat": 4,
 "nbformat_minor": 4
}
